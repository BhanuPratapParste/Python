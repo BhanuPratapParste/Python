{
 "cells": [
  {
   "cell_type": "code",
   "execution_count": 10,
   "id": "3ccfecf5",
   "metadata": {},
   "outputs": [
    {
     "name": "stdout",
     "output_type": "stream",
     "text": [
      "110 100\n"
     ]
    }
   ],
   "source": [
    "even=0\n",
    "odd=0\n",
    "for i in range(1,21):\n",
    "    if i%2==0:\n",
    "        even+=i\n",
    "    else:\n",
    " \n",
    "       odd+=i\n",
    "print(even,odd)"
   ]
  },
  {
   "cell_type": "code",
   "execution_count": null,
   "id": "0eaac327",
   "metadata": {},
   "outputs": [
    {
     "name": "stdout",
     "output_type": "stream",
     "text": [
      "1 3 5 7 9 11 13 15 17 19 "
     ]
    }
   ],
   "source": [
    "# find the odd number\n",
    "for i in range(1,21,2):\n",
    "    print(i,end=\" \")"
   ]
  },
  {
   "cell_type": "code",
   "execution_count": null,
   "id": "193d5d10",
   "metadata": {},
   "outputs": [
    {
     "name": "stdout",
     "output_type": "stream",
     "text": [
      "HCF is  2\n"
     ]
    }
   ],
   "source": [
    "# find the HCF code\n",
    "n=int(input())\n",
    "m=int(input())\n",
    "i=n\n",
    "while i>=1:\n",
    "    if n%i==0 and m%i==0:\n",
    "        print(\"HCF is \",i)\n",
    "        break\n",
    "    i-=1\n",
    "\n",
    "else:\n",
    "    print(\"not HCF \")"
   ]
  },
  {
   "cell_type": "code",
   "execution_count": null,
   "id": "83a6ce37",
   "metadata": {},
   "outputs": [
    {
     "name": "stdout",
     "output_type": "stream",
     "text": [
      "LCM is  36\n"
     ]
    }
   ],
   "source": [
    "# find the LCM code\n",
    "n=int(input())\n",
    "m=int(input())\n",
    "i=n\n",
    "while i<=n*m:\n",
    "    if i%n==0 and i%m==0:\n",
    "        print(\"LCM is \",i)\n",
    "        break\n",
    "    i+=1\n",
    "\n",
    "else:\n",
    "    print(\"not LCM \")"
   ]
  },
  {
   "cell_type": "code",
   "execution_count": 9,
   "id": "7ab5350d",
   "metadata": {},
   "outputs": [
    {
     "name": "stdout",
     "output_type": "stream",
     "text": [
      "prime\n"
     ]
    }
   ],
   "source": [
    "n=int(input())\n",
    "i=2\n",
    "while i<n:\n",
    "    if i%n==0:\n",
    "        print(\"not prime\")\n",
    "        break\n",
    "    i+=1\n",
    "else:\n",
    "    print(\"prime\")   \n",
    "   \n",
    "    \n",
    "\n",
    "\n"
   ]
  }
 ],
 "metadata": {
  "kernelspec": {
   "display_name": "Python 3",
   "language": "python",
   "name": "python3"
  },
  "language_info": {
   "codemirror_mode": {
    "name": "ipython",
    "version": 3
   },
   "file_extension": ".py",
   "mimetype": "text/x-python",
   "name": "python",
   "nbconvert_exporter": "python",
   "pygments_lexer": "ipython3",
   "version": "3.12.2"
  }
 },
 "nbformat": 4,
 "nbformat_minor": 5
}
